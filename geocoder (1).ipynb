{
 "cells": [
  {
   "cell_type": "code",
   "execution_count": 3,
   "id": "684160b7-74fb-4bf5-8b58-8424d092d0a6",
   "metadata": {},
   "outputs": [],
   "source": [
    "# !pip install geocoder"
   ]
  },
  {
   "cell_type": "code",
   "execution_count": 38,
   "id": "5d9a410a-df4e-45d7-9cab-8a765019f04e",
   "metadata": {},
   "outputs": [],
   "source": [
    "import geocoder\n",
    "coordinates = geocoder.arcgis(f'台北市信義區信義路五段7號').latlng\n",
    "coordinates\n"
   ]
  },
  {
   "cell_type": "code",
   "execution_count": 1,
   "id": "951f064c-30fb-475f-b2c9-c0805ed70980",
   "metadata": {},
   "outputs": [],
   "source": [
    "import geocoder\n",
    "from shapely.geometry import Point\n",
    "\n",
    "\n",
    "address = \"10684台北市大安區東豐街30號\"\n",
    "# 輸入地址轉經緯度\n",
    "coordinates = geocoder.arcgis(address).latlng\n",
    "\n",
    "# 給定經度、緯度\n",
    "longitude = coordinates[1]\n",
    "latitude = coordinates[0]\n",
    "\n",
    "\n",
    "# 創建中心點\n",
    "center_point = Point(longitude, latitude)"
   ]
  },
  {
   "cell_type": "code",
   "execution_count": 2,
   "id": "4e9d5f2c-a1f1-407a-bf67-4ad34a15926f",
   "metadata": {},
   "outputs": [],
   "source": [
    "import geopandas as gpd\n",
    "from shapely.geometry import Point\n",
    "from geopandas.tools import sjoin\n",
    "\n",
    "\n",
    "# 建立中心點gdf\n",
    "center_gdf = gpd.GeoDataFrame(\n",
    "                    geometry=[center_point],\n",
    "                    crs = \"epsg:4326\" ) \n",
    "# 設置原始數據的 CRS 為 WGS 84\n",
    "\n",
    "# 載入資料集\n",
    "# 指定存放CSV文件的資料夾路徑\n",
    "folder_path = r'./Dataset/'  # 確保使用r來避免轉義字符的問題\n",
    "\n",
    "\n",
    "# 雙北飲料店\n",
    "drink_df = gpd.read_file(f'{folder_path}drink.csv')\n",
    "drink_gdf = gpd.GeoDataFrame(\n",
    "                drink_df, \n",
    "                geometry=[Point(xy) for xy in zip(drink_df.longitude, drink_df.latitude)],\n",
    "                crs = \"epsg:4326\" \n",
    "            )\n",
    "\n",
    "\n",
    "# 雙北火車\n",
    "train_df = gpd.read_file(f'{folder_path}train.csv')\n",
    "train_gdf = gpd.GeoDataFrame(\n",
    "                train_df, \n",
    "                geometry=[Point(xy) for xy in zip(train_df.longitude, train_df.latitude)],\n",
    "                crs = \"epsg:4326\" \n",
    "            )\n",
    "\n",
    "\n",
    "# 雙北公車站\n",
    "bus_df = gpd.read_file(f'{folder_path}bus.csv')\n",
    "bus_gdf = gpd.GeoDataFrame(\n",
    "                bus_df, \n",
    "                geometry=[Point(xy) for xy in zip(bus_df.longitude, bus_df.latitude)],\n",
    "                crs = \"epsg:4326\" \n",
    "            )\n",
    "\n",
    "\n",
    "# 雙北公園\n",
    "park_df = gpd.read_file(f'{folder_path}park.csv')\n",
    "park_gdf = gpd.GeoDataFrame(\n",
    "                park_df, \n",
    "                geometry=[Point(xy) for xy in zip(park_df.longitude, park_df.latitude)],\n",
    "                crs = \"epsg:4326\" \n",
    "            )\n",
    "\n",
    "\n",
    "# 雙北夜市\n",
    "night_market_df = gpd.read_file(f'{folder_path}night_market.csv')\n",
    "night_market_gdf = gpd.GeoDataFrame(\n",
    "                night_market_df, \n",
    "                geometry=[Point(xy) for xy in zip(night_market_df.longitude, night_market_df.latitude)],\n",
    "                crs = \"epsg:4326\" \n",
    "            )\n",
    "\n",
    "\n",
    "# 雙北捷運\n",
    "mrt_df = gpd.read_file(f'{folder_path}mrt.csv')\n",
    "mrt_gdf = gpd.GeoDataFrame(\n",
    "                mrt_df, \n",
    "                geometry=[Point(xy) for xy in zip(mrt_df.longitude, mrt_df.latitude)],\n",
    "                crs = \"epsg:4326\" \n",
    "            )\n",
    "\n",
    "\n",
    "# 雙北學校\n",
    "sports_facilities_df = gpd.read_file(f'{folder_path}sports_facilities.csv')\n",
    "sports_facilities_gdf = gpd.GeoDataFrame(\n",
    "                sports_facilities_df, \n",
    "                geometry=[Point(xy) for xy in zip(sports_facilities_df.longitude, sports_facilities_df.latitude)],\n",
    "                crs = \"epsg:4326\" \n",
    "            )\n",
    "\n",
    "\n",
    "# 雙北電影院\n",
    "movie_theater_df = gpd.read_file(f'{folder_path}movie_theater.csv')\n",
    "movie_theater_gdf = gpd.GeoDataFrame(\n",
    "                movie_theater_df, \n",
    "                geometry=[Point(xy) for xy in zip(movie_theater_df.longitude, movie_theater_df.latitude)],\n",
    "                crs = \"epsg:4326\" \n",
    "            )\n",
    "\n",
    "\n",
    "# 雙北學校\n",
    "school_df = gpd.read_file(f'{folder_path}school.csv')\n",
    "school_gdf = gpd.GeoDataFrame(\n",
    "                school_df, \n",
    "                geometry=[Point(xy) for xy in zip(school_df.longitude, school_df.latitude)],\n",
    "                crs = \"epsg:4326\" \n",
    "            )\n",
    "\n",
    "\n",
    "# 雙北醫院\n",
    "hospital_df = gpd.read_file(f'{folder_path}hospital.csv')\n",
    "hospital_gdf = gpd.GeoDataFrame(\n",
    "                    hospital_df,\n",
    "                    geometry=[Point(xy) for xy in zip(hospital_df.longitude, hospital_df.latitude)],\n",
    "                    crs = \"epsg:4326\" \n",
    "                )\n",
    "\n",
    "# school_gdf"
   ]
  },
  {
   "cell_type": "code",
   "execution_count": 3,
   "id": "712b6333-3156-4ac0-9403-c8b4ae8d80df",
   "metadata": {},
   "outputs": [],
   "source": [
    "# 轉換坐標系統到 Web Mercator (epsg:3826(TWD97 121分帶)) 以計算以公尺為單位距離\n",
    "center_gdf = center_gdf.to_crs(epsg=3826)\n",
    "school_gdf = school_gdf.to_crs(epsg=3826)\n",
    "drink_gdf = drink_gdf.to_crs(epsg=3826)\n",
    "train_gdf = train_gdf.to_crs(epsg=3826)\n",
    "bus_gdf = bus_gdf.to_crs(epsg=3826)\n",
    "park_gdf = park_gdf.to_crs(epsg=3826)\n",
    "night_market_gdf = night_market_gdf.to_crs(epsg=3826)\n",
    "sports_facilities_gdf = sports_facilities_gdf.to_crs(epsg=3826)\n",
    "mrt_gdf = mrt_gdf.to_crs(epsg=3826)\n",
    "movie_theater_gdf = movie_theater_gdf.to_crs(epsg=3826)\n",
    "hospital_gdf = hospital_gdf.to_crs(epsg=3826)"
   ]
  },
  {
   "cell_type": "code",
   "execution_count": 4,
   "id": "ef9e3f65-5aae-4d8d-8aed-4e41a2816a7d",
   "metadata": {},
   "outputs": [
    {
     "data": {
      "text/html": [
       "<div>\n",
       "<style scoped>\n",
       "    .dataframe tbody tr th:only-of-type {\n",
       "        vertical-align: middle;\n",
       "    }\n",
       "\n",
       "    .dataframe tbody tr th {\n",
       "        vertical-align: top;\n",
       "    }\n",
       "\n",
       "    .dataframe thead th {\n",
       "        text-align: right;\n",
       "    }\n",
       "</style>\n",
       "<table border=\"1\" class=\"dataframe\">\n",
       "  <thead>\n",
       "    <tr style=\"text-align: right;\">\n",
       "      <th></th>\n",
       "      <th>shop_id</th>\n",
       "      <th>geometry</th>\n",
       "    </tr>\n",
       "  </thead>\n",
       "  <tbody>\n",
       "    <tr>\n",
       "      <th>0</th>\n",
       "      <td>0</td>\n",
       "      <td>POLYGON ((306054.341 2769869.277, 306054.215 2...</td>\n",
       "    </tr>\n",
       "  </tbody>\n",
       "</table>\n",
       "</div>"
      ],
      "text/plain": [
       "   shop_id                                           geometry\n",
       "0        0  POLYGON ((306054.341 2769869.277, 306054.215 2..."
      ]
     },
     "execution_count": 4,
     "metadata": {},
     "output_type": "execute_result"
    }
   ],
   "source": [
    "# 建立中心點的id(唯一值)\n",
    "center_gdf['shop_id'] = range(len(center_gdf))\n",
    "\n",
    "# 建立緩衝區(輪廓) GeoDataFrame\n",
    "buffer_gdf = gpd.GeoDataFrame(center_gdf[['shop_id', 'geometry']].copy())\n",
    "buffer_gdf['geometry'] = buffer_gdf.geometry.buffer(1000, resolution=99) # 建立1公里緩衝區(輪廓)\n",
    "\n",
    "buffer_gdf"
   ]
  },
  {
   "cell_type": "code",
   "execution_count": 5,
   "id": "87b441b5-15b5-424b-991b-95b1f186b993",
   "metadata": {},
   "outputs": [
    {
     "name": "stdout",
     "output_type": "stream",
     "text": [
      "學校數量 : 12\n",
      "飲料店數量 : 144\n",
      "火車站數量 : 0\n",
      "公車站數量 : 37\n",
      "公園數量 : 24\n",
      "夜市數量 : 0\n",
      "運動設施數量 : 24\n",
      "捷運站數量 : 4\n",
      "電影院數量 : 1\n",
      "醫院數量 : 4\n",
      "\n"
     ]
    }
   ],
   "source": [
    "# 空間連接(join)\n",
    "school_joined_gdf = sjoin(buffer_gdf, school_gdf, how=\"inner\", predicate='contains')\n",
    "drink_joined_gdf = sjoin(buffer_gdf, drink_gdf, how=\"inner\", predicate='contains')\n",
    "train_joined_gdf = sjoin(buffer_gdf, train_gdf, how=\"inner\", predicate='contains')\n",
    "bus_joined_gdf = sjoin(buffer_gdf, bus_gdf, how=\"inner\", predicate='contains')\n",
    "park_joined_gdf = sjoin(buffer_gdf, park_gdf, how=\"inner\", predicate='contains')\n",
    "night_market_joined_gdf = sjoin(buffer_gdf, night_market_gdf, how=\"inner\", predicate='contains')\n",
    "sports_facilities_joined_gdf = sjoin(buffer_gdf, sports_facilities_gdf, how=\"inner\", predicate='contains')\n",
    "mrt_joined_gdf = sjoin(buffer_gdf, mrt_gdf, how=\"inner\", predicate='contains')\n",
    "movie_theater_joined_gdf = sjoin(buffer_gdf, movie_theater_gdf, how=\"inner\", predicate='contains')\n",
    "hospital_joined_gdf = sjoin(buffer_gdf, hospital_gdf, how=\"inner\", predicate='contains')\n",
    "\n",
    "# 執行統計每個緩沖區內的設施數量\n",
    "school_counts = school_joined_gdf.groupby('shop_id').size()\n",
    "drink_counts = drink_joined_gdf.groupby('shop_id').size()\n",
    "train_counts = train_joined_gdf.groupby('shop_id').size()\n",
    "bus_counts = bus_joined_gdf.groupby('shop_id').size()\n",
    "park_counts = park_joined_gdf.groupby('shop_id').size()\n",
    "night_market_counts = night_market_joined_gdf.groupby('shop_id').size()\n",
    "sports_facilities_counts = sports_facilities_joined_gdf.groupby('shop_id').size()\n",
    "mrt_counts = mrt_joined_gdf.groupby('shop_id').size()\n",
    "movie_theater_counts = movie_theater_joined_gdf.groupby('shop_id').size()\n",
    "hospital_counts = hospital_joined_gdf.groupby('shop_id').size()\n",
    "\n",
    "\n",
    "# 需要將計數結果與原始的多邊形 GeoDataFrame 進行合併\n",
    "# 為了確保即使是數值為 0 的多邊形也能被統計\n",
    "buffer_gdf['school_counts'] = buffer_gdf.index.map(school_counts).fillna(0)\n",
    "buffer_gdf['drink_counts'] = buffer_gdf.index.map(drink_counts).fillna(0)\n",
    "buffer_gdf['train_counts'] = buffer_gdf.index.map(train_counts).fillna(0)\n",
    "buffer_gdf['bus_counts'] = buffer_gdf.index.map(bus_counts).fillna(0)\n",
    "buffer_gdf['park_counts'] = buffer_gdf.index.map(park_counts).fillna(0)\n",
    "buffer_gdf['night_market_counts'] = buffer_gdf.index.map(night_market_counts).fillna(0)\n",
    "buffer_gdf['sports_facilities_counts'] = buffer_gdf.index.map(sports_facilities_counts).fillna(0)\n",
    "buffer_gdf['mrt_counts'] = buffer_gdf.index.map(mrt_counts).fillna(0)\n",
    "buffer_gdf['movie_theater_counts'] = buffer_gdf.index.map(movie_theater_counts).fillna(0)\n",
    "buffer_gdf['hospital_counts'] = buffer_gdf.index.map(hospital_counts).fillna(0)\n",
    "\n",
    "\n",
    "school_counts = int(buffer_gdf['school_counts'].values[0])\n",
    "drink_counts = int(buffer_gdf['drink_counts'].values[0])\n",
    "train_counts = int(buffer_gdf['train_counts'].values[0])\n",
    "bus_counts = int(buffer_gdf['bus_counts'].values[0])\n",
    "park_counts = int(buffer_gdf['park_counts'].values[0])\n",
    "night_market_counts = int(buffer_gdf['night_market_counts'].values[0])\n",
    "sports_facilities_counts = int(buffer_gdf['sports_facilities_counts'].values[0])\n",
    "mrt_counts = int(buffer_gdf['mrt_counts'].values[0])\n",
    "movie_theater_counts = int(buffer_gdf['movie_theater_counts'].values[0])\n",
    "hospital_counts = int(buffer_gdf['hospital_counts'].values[0])\n",
    "\n",
    "print(\n",
    "    f'學校數量 : {school_counts}''\\n'\n",
    "    f'飲料店數量 : {drink_counts}''\\n'\n",
    "    f'火車站數量 : {train_counts}''\\n'\n",
    "    f'公車站數量 : {bus_counts}''\\n'\n",
    "    f'公園數量 : {park_counts}''\\n'\n",
    "    f'夜市數量 : {night_market_counts}''\\n'\n",
    "    f'運動設施數量 : {sports_facilities_counts}''\\n'\n",
    "    f'捷運站數量 : {mrt_counts}''\\n'\n",
    "    f'電影院數量 : {movie_theater_counts}''\\n'\n",
    "    f'醫院數量 : {hospital_counts}''\\n'\n",
    ")\n"
   ]
  },
  {
   "cell_type": "code",
   "execution_count": 30,
   "id": "af0b5d2f-0c44-49b0-977c-d45ee35439de",
   "metadata": {},
   "outputs": [
    {
     "data": {
      "text/plain": [
       "0    0\n",
       "Name: shop_id, dtype: int64"
      ]
     },
     "execution_count": 30,
     "metadata": {},
     "output_type": "execute_result"
    }
   ],
   "source": [
    "center_gdf['shop_id'] = range(len(center_gdf))"
   ]
  },
  {
   "cell_type": "code",
   "execution_count": 31,
   "id": "48ab38be-413f-4ddd-b59c-c8c720ef12b9",
   "metadata": {},
   "outputs": [
    {
     "name": "stdout",
     "output_type": "stream",
     "text": [
      "                  geometry  shop_id\n",
      "0  POINT (1.00000 2.00000)        0\n",
      "1  POINT (2.00000 3.00000)        1\n",
      "2  POINT (3.00000 4.00000)        2\n"
     ]
    }
   ],
   "source": [
    "import geopandas as gpd\n",
    "from shapely.geometry import Point\n",
    "\n",
    "# 假设我们有一些中心点，这里我们随机创建一些示例点\n",
    "points = [Point(1, 2), Point(2, 3), Point(3, 4)]\n",
    "center_gdf = gpd.GeoDataFrame(geometry=points)\n",
    "\n",
    "# 为每个点分配一个唯一的 shop_id\n",
    "center_gdf['shop_id'] = range(len(center_gdf))\n",
    "\n",
    "# 显示结果\n",
    "print(center_gdf)"
   ]
  },
  {
   "cell_type": "code",
   "execution_count": 10,
   "id": "b175713f-4c05-4011-b31d-ceccb7c306ce",
   "metadata": {},
   "outputs": [
    {
     "ename": "NameError",
     "evalue": "name '__file__' is not defined",
     "output_type": "error",
     "traceback": [
      "\u001b[1;31m---------------------------------------------------------------------------\u001b[0m",
      "\u001b[1;31mNameError\u001b[0m                                 Traceback (most recent call last)",
      "Cell \u001b[1;32mIn[10], line 2\u001b[0m\n\u001b[0;32m      1\u001b[0m \u001b[38;5;28;01mimport\u001b[39;00m \u001b[38;5;21;01mos\u001b[39;00m\n\u001b[1;32m----> 2\u001b[0m os\u001b[38;5;241m.\u001b[39mpath\u001b[38;5;241m.\u001b[39mabspath(os\u001b[38;5;241m.\u001b[39mpath\u001b[38;5;241m.\u001b[39mdirname(\u001b[38;5;18;43m__file__\u001b[39;49m))\n",
      "\u001b[1;31mNameError\u001b[0m: name '__file__' is not defined"
     ]
    }
   ],
   "source": [
    "import os\n",
    "os.path.abspath(os.path.dirname(__file__))"
   ]
  },
  {
   "cell_type": "code",
   "execution_count": 9,
   "id": "a33277cd-350b-4f1d-be5c-356220a02797",
   "metadata": {},
   "outputs": [
    {
     "name": "stdout",
     "output_type": "stream",
     "text": [
      "C:\\Users\\student\\python_web_scraping-master\\final_project\n"
     ]
    }
   ],
   "source": [
    "import os\n",
    "print(os.getcwd())\n"
   ]
  },
  {
   "cell_type": "code",
   "execution_count": 11,
   "id": "00b12232-ae8e-4015-a75b-691665af2271",
   "metadata": {},
   "outputs": [
    {
     "name": "stdout",
     "output_type": "stream",
     "text": [
      "C:\\Users\\student\\python_web_scraping-master\\final_project\n"
     ]
    }
   ],
   "source": [
    "import os\n",
    "current_dir = os.getcwd()\n",
    "print(current_dir)\n"
   ]
  },
  {
   "cell_type": "code",
   "execution_count": null,
   "id": "5d902008-192a-4996-ac57-a48bf87a6419",
   "metadata": {},
   "outputs": [],
   "source": []
  }
 ],
 "metadata": {
  "kernelspec": {
   "display_name": "Python 3 (ipykernel)",
   "language": "python",
   "name": "python3"
  },
  "language_info": {
   "codemirror_mode": {
    "name": "ipython",
    "version": 3
   },
   "file_extension": ".py",
   "mimetype": "text/x-python",
   "name": "python",
   "nbconvert_exporter": "python",
   "pygments_lexer": "ipython3",
   "version": "3.10.13"
  }
 },
 "nbformat": 4,
 "nbformat_minor": 5
}
